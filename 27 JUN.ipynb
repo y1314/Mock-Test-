{
 "cells": [
  {
   "cell_type": "markdown",
   "id": "dfff1c4a-fc9d-44b3-b247-a3ada91f2b8a",
   "metadata": {},
   "source": [
    "### Q1. Move Zeroes\n",
    "\n",
    "Given an integer array nums, move all 0's to the end of it while maintaining the relative order of the non-zero elements.\n",
    "\n",
    "Note that you must do this in-place without making a copy of the array.\n",
    "\n",
    "- Example 1:\n",
    "\n",
    "Input: nums = [0,1,0,3,12]\n",
    "\n",
    "Output: [1,3,12,0,0]\n",
    "\n",
    "- Example 2:\n",
    "\n",
    "Input: nums = [0]\n",
    "\n",
    "Output: [0]\n",
    "\n",
    "- Constraints:\n",
    "\n",
    "a. 1 <= nums.length <= 10^4\n",
    "\n",
    "b. -2^31 <= nums[i] <= 2^31 - 1"
   ]
  },
  {
   "cell_type": "code",
   "execution_count": 17,
   "id": "5a96d073-15e8-41c3-8df5-8538433ae6a8",
   "metadata": {},
   "outputs": [
    {
     "name": "stdout",
     "output_type": "stream",
     "text": [
      "[1, 3, 12, 0, 0]\n",
      "[0]\n"
     ]
    }
   ],
   "source": [
    "# using two pointer approach\n",
    "\n",
    "def movezeroes(nums):\n",
    "        \n",
    "    zero_pos = 0\n",
    "    for i in range(len(nums)):\n",
    "        if nums[i] != 0:\n",
    "            nums[i], nums[zero_pos] = nums[zero_pos], nums[i]\n",
    "            zero_pos += 1   \n",
    "            \n",
    "    return nums\n",
    "\n",
    "# Test cases\n",
    "arr1 = [0, 1, 0, 3, 12]\n",
    "moveZeroes(arr1)\n",
    "print(arr1) \n",
    "\n",
    "arr2 = [0]\n",
    "moveZeroes(nums2)\n",
    "print(arr2)"
   ]
  },
  {
   "cell_type": "markdown",
   "id": "393c5684-ce3e-4efc-8ac8-8ae00bb3b698",
   "metadata": {},
   "source": [
    "### Q2. First Unique Character in a String\n",
    "\n",
    "**Given a string s, find the first non-repeating character in it and return its index. If it does not exist, return -1.**\n",
    "\n",
    "- Example 1:\n",
    "\n",
    "Input: s = \"leetcode\"\n",
    "\n",
    "Output: 0\n",
    "\n",
    "- Example 2:\n",
    "\n",
    "Input: s = \"loveleetcode\"\n",
    "\n",
    "Output: 2\n",
    "\n",
    "- Example 3:\n",
    "\n",
    "Input: s = \"aabb\"\n",
    "\n",
    "Output: -1\n",
    "\n",
    "Constraints:\n",
    "a. 1 <= s.length <= 10^5\n",
    "b. s consists of only lowercase English letters."
   ]
  },
  {
   "cell_type": "code",
   "execution_count": 24,
   "id": "10d2c6ae-5ca7-41aa-b1da-4bc5e273d6a7",
   "metadata": {},
   "outputs": [],
   "source": [
    "def uniqChar(s):\n",
    "    \n",
    "    char_frq = {}\n",
    "\n",
    "    for char in s:\n",
    "        if char in char_frq:\n",
    "            char_frq[char] += 1\n",
    "        else:\n",
    "            char_frq[char] = 1\n",
    "\n",
    "    for i, char in enumerate(s):\n",
    "        if char_frq[char] == 1:\n",
    "            return i\n",
    "\n",
    "    return -1\n"
   ]
  },
  {
   "cell_type": "code",
   "execution_count": 25,
   "id": "b5488085-bfdc-4e39-81e5-f44275bf06ec",
   "metadata": {},
   "outputs": [
    {
     "name": "stdout",
     "output_type": "stream",
     "text": [
      "0\n",
      "2\n",
      "-1\n"
     ]
    }
   ],
   "source": [
    "#TEST cASE\n",
    "\n",
    "print(uniqChar(\"leetcode\"))   \n",
    "print(uniqChar(\"loveleetcode\"))  \n",
    "print(uniqChar(\"aabb\"))         \n",
    "\n"
   ]
  }
 ],
 "metadata": {
  "kernelspec": {
   "display_name": "Python 3 (ipykernel)",
   "language": "python",
   "name": "python3"
  },
  "language_info": {
   "codemirror_mode": {
    "name": "ipython",
    "version": 3
   },
   "file_extension": ".py",
   "mimetype": "text/x-python",
   "name": "python",
   "nbconvert_exporter": "python",
   "pygments_lexer": "ipython3",
   "version": "3.10.8"
  }
 },
 "nbformat": 4,
 "nbformat_minor": 5
}
